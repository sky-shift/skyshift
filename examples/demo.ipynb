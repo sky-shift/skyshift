{
 "cells": [
  {
   "cell_type": "markdown",
   "metadata": {},
   "source": [
    "# Sky Manager\n",
    "\n",
    "Sky Manager's goal is to intelligently schedule jobs and deployment across an organization's clusters. It aims to eliminate the boundraries between clusters and create the notion of \"one gigantic cluster\".\n",
    "\n",
    "Sky Manager consists of an API server and a controller manager. Organizations can easily add their clusters (Kubernetes and Slurm (TODO)) to Sky Manager.\n",
    "\n",
    "The types of objects Sky Manager supports is:\n",
    "- Clusters\n",
    "- Jobs (Federated across clusters)\n",
    "- Deployments (Federated across clusters)\n",
    "- Namespaces (Federated across clusters)\n",
    "- FilterPolicies (Governance for existing jobs/deployments.)"
   ]
  },
  {
   "cell_type": "markdown",
   "metadata": {},
   "source": [
    "## API Server\n",
    "\n",
    "The API server supports CRUD operations over namespace and global objects. These operations include:\n",
    "- Create\n",
    "- Get (Read)\n",
    "- List\n",
    "- Update\n",
    "- Watch (asynchronously watches objects and tracks for updates)"
   ]
  },
  {
   "cell_type": "code",
   "execution_count": 1,
   "metadata": {},
   "outputs": [],
   "source": [
    "# Launch API server.\n",
    "import subprocess\n",
    "import signal\n",
    "import os\n",
    "\n",
    "# Get a list of all running processes.\n",
    "ps = subprocess.Popen(['ps', 'aux'], stdout=subprocess.PIPE).communicate()[0]\n",
    "processes = ps.splitlines()\n",
    "# Iterate over each running process\n",
    "for process in processes:\n",
    "    # Find processes with 'api_server' in the command\n",
    "    if 'launch_server.py' in process.decode('utf-8') or 'launch_sky_manager' in process.decode('utf-8'):\n",
    "        # Extract the process ID (PID).\n",
    "        pid = int(process.split()[1])\n",
    "        # Kill api_server process.\n",
    "        os.kill(pid, signal.SIGKILL)  # or signal.SIGTERM for a softer kill"
   ]
  },
  {
   "cell_type": "code",
   "execution_count": null,
   "metadata": {},
   "outputs": [],
   "source": [
    "\n",
    "os.system('python ../../api_server/launch_server.py &')"
   ]
  },
  {
   "cell_type": "markdown",
   "metadata": {},
   "source": [
    "Below we show simple examples with the API server:"
   ]
  },
  {
   "cell_type": "code",
   "execution_count": null,
   "metadata": {},
   "outputs": [],
   "source": [
    "# List clusters\n",
    "from sky_manager.utils.utils import load_manager_config\n",
    "\n",
    "api_server_ip, api_server_port = load_manager_config()\n",
    "\n",
    "print('Listing all clusters:')\n",
    "os.system(f'curl -X GET http://{api_server_ip}:{api_server_port}/clusters')"
   ]
  },
  {
   "cell_type": "code",
   "execution_count": null,
   "metadata": {},
   "outputs": [],
   "source": [
    "print('Get cluster cluster-0:')\n",
    "os.system(f'curl -X GET http://{api_server_ip}:{api_server_port}/clusters/cluster-0')"
   ]
  },
  {
   "cell_type": "code",
   "execution_count": null,
   "metadata": {},
   "outputs": [],
   "source": [
    "print('DELETE cluster cluster-0:')\n",
    "os.system(f'curl -X DELETE http://{api_server_ip}:{api_server_port}/clusters/cluster-0')\n",
    "\n",
    "print(\"Cluster-0 should be gone.\")\n",
    "os.system(f'curl -X GET http://{api_server_ip}:{api_server_port}/clusters/cluster-0')"
   ]
  },
  {
   "cell_type": "markdown",
   "metadata": {},
   "source": [
    "## Programatic API and CLI\n",
    "\n",
    "Thanks to the API server, Sky Manager layers a programmtic API and CLI that uses the API server's rest API."
   ]
  },
  {
   "cell_type": "code",
   "execution_count": null,
   "metadata": {},
   "outputs": [],
   "source": [
    "from sky_manager.api_client import ClusterAPI\n",
    "\n",
    "cluster_api = ClusterAPI()\n",
    "\n",
    "print('API - List clusters.')\n",
    "print(cluster_api.list())\n",
    "\n",
    "print('API - Get cluster-1')\n",
    "print(cluster_api.get('cluster-1'))\n",
    "\n",
    "print('API - Delete cluster-1')\n",
    "print(cluster_api.delete('cluster-1'))"
   ]
  },
  {
   "cell_type": "code",
   "execution_count": null,
   "metadata": {},
   "outputs": [],
   "source": [
    "print('CLI - List clusters.')\n",
    "os.system('skym get clusters')\n",
    "\n",
    "print('CLI - Get cluster-2.')\n",
    "os.system('skym get cluster cluster-2')\n",
    "\n",
    "print('CLI - Create cluster.')\n",
    "os.system('skym create cluster skycluster --manager k8')\n",
    "\n",
    "print('CLI - List clusters.')\n",
    "os.system('skym get clusters')\n",
    "\n"
   ]
  },
  {
   "cell_type": "code",
   "execution_count": null,
   "metadata": {},
   "outputs": [],
   "source": [
    "from sky_manager.api_client import JobAPI\n",
    "\n",
    "job_api = JobAPI(namespace='default')\n",
    "print('List jobs.')\n",
    "print(job_api.list())\n",
    "\n",
    "print('Get job-0')\n",
    "print(job_api.get('job-0'))\n",
    "\n",
    "print('Delete job-0')\n",
    "print(job_api.delete('job-0'))\n",
    "\n",
    "print('Create job hello')\n",
    "job_dict = {\n",
    "    \"kind\": \"Job\",\n",
    "    \"metadata\": {\n",
    "      \"name\": \"hello\",\n",
    "      \"labels\": {\n",
    "        \"testing\": \"hello\"\n",
    "      }\n",
    "    },\n",
    "    \"spec\": {\n",
    "      \"image\": \"gcr.io/sky-burst/skyburst:latest\",\n",
    "      \"resources\": {\n",
    "        \"cpu\": 1,\n",
    "      },\n",
    "      \"run\": \"echo Sky!\"\n",
    "    } \n",
    "}\n",
    "print(job_api.create(job_dict))"
   ]
  },
  {
   "cell_type": "code",
   "execution_count": null,
   "metadata": {},
   "outputs": [],
   "source": [
    "print('CLI - List jobs.')\n",
    "os.system('skym get jobs')\n",
    "\n",
    "print('CLI - Get jobs hello.')\n",
    "os.system('skym get job hello')\n",
    "\n"
   ]
  },
  {
   "cell_type": "markdown",
   "metadata": {},
   "source": [
    "## Controller Manager\n",
    "\n",
    "Under the hood, the controller manager manages \n",
    "- Scheduler Controller, which coordinates which job goes to which clusters (aka spread replicas across clusters).\n",
    "- Skylet Controller, which spawns a \"Skylet\" process for each cluster.\n",
    "\n",
    "Diving deeper the Skylet controller manages:\n",
    "- Cluster Controller, similar to Kubelet, which monitors a cluster's healthy and state.\n",
    "- Job Controller, which monitors the state of a job's replicas submitted to cluster.\n",
    "- Flow Controller, which controls the flow of jobs in and out of the cluster. (i.e. evict job is it is waiting too long).\n"
   ]
  },
  {
   "cell_type": "code",
   "execution_count": null,
   "metadata": {},
   "outputs": [],
   "source": [
    "# Launch controller manager\n",
    "os.system('python ../launch_sky_manager.py &')"
   ]
  },
  {
   "cell_type": "code",
   "execution_count": null,
   "metadata": {},
   "outputs": [],
   "source": [
    "# Sky manager automatically detects all clusters in your Kubeconfig file. Skylet controller will spawn Skylet subprocesses for each valid K8 cluster.\n",
    "!skym get clusters"
   ]
  },
  {
   "cell_type": "markdown",
   "metadata": {},
   "source": [
    "## Job Submission Demo\n",
    "This part of the DEMO will consist of three parts:\n",
    "- Submitting a simple job. Sky Manager will automatically choose the cluster to execute the job.\n",
    "- FilterPolicy (if user has governance constraints) - Sky Manager will filter for the right set of clusters to execute the job.\n",
    "- Multi-node jobs (aka multiple replicas) - Sky Manager will automatically spread the job across clusters."
   ]
  },
  {
   "cell_type": "markdown",
   "metadata": {},
   "source": [
    "### Demo 1: Simple Job Submission"
   ]
  },
  {
   "cell_type": "code",
   "execution_count": null,
   "metadata": {},
   "outputs": [],
   "source": [
    "# Submit a 1 CPU job to Sky Manager\n",
    "import time\n",
    "import uuid\n",
    "\n",
    "job_uuid = uuid.uuid4().hex[:8] # Get only the first 8 characters for a short version\n",
    "\n",
    "\n",
    "os.system(f'skym create job sky-{job_uuid} --resources cpu 1 --run \"echo Sky!; sleep 10\"')"
   ]
  },
  {
   "cell_type": "code",
   "execution_count": null,
   "metadata": {},
   "outputs": [],
   "source": [
    "for _ in range(10):\n",
    "    os.system(f'skym get job sky-{job_uuid}')\n",
    "    time.sleep(0.5)"
   ]
  },
  {
   "cell_type": "markdown",
   "metadata": {},
   "source": [
    "### Demo 2: Filter Policies\n",
    "\n",
    "Filter policies constrain where users can submit their cluster."
   ]
  },
  {
   "cell_type": "code",
   "execution_count": null,
   "metadata": {},
   "outputs": [],
   "source": [
    "# TODO: Filters on cluster labels (not just cluster name)\n",
    "filter_policy = {\n",
    "        'kind': 'FilterPolicy',\n",
    "        'metadata': {\n",
    "            'name': 'remove-mluo-cloud',\n",
    "            'namespace': 'default',\n",
    "        },\n",
    "        'spec': {\n",
    "            'clusterFilter': {\n",
    "                'include': ['mluo-onprem', 'mluo-cloud', 'cloud-2'],\n",
    "                'exclude': ['mluo-cloud'],\n",
    "            },\n",
    "            'labelsSelector': {\n",
    "                'my_app': 'testing',\n",
    "            }\n",
    "        }\n",
    "}\n",
    "\n",
    "from sky_manager.api_client import FilterPolicyAPI\n",
    "\n",
    "FilterPolicyAPI(namespace='default').create(filter_policy)"
   ]
  },
  {
   "cell_type": "code",
   "execution_count": null,
   "metadata": {},
   "outputs": [],
   "source": [
    "from sky_manager.api_client import JobAPI\n",
    "job_api = JobAPI(namespace='default')\n",
    "\n",
    "\n",
    "job_uuid = 'sky-' + str(uuid.uuid4().hex[:8]) # Get only the first 8 characters for a short version\n",
    "\n",
    "\n",
    "job_dict = {\n",
    "    \"kind\": \"Job\",\n",
    "    \"metadata\": {\n",
    "      \"name\": job_uuid,\n",
    "      \"labels\": {\n",
    "        \"my_app\": \"testing\"\n",
    "      }\n",
    "    },\n",
    "    \"spec\": {\n",
    "      \"image\": \"gcr.io/sky-burst/skyburst:latest\",\n",
    "      \"resources\": {\n",
    "        \"cpu\": 1,\n",
    "      },\n",
    "      \"run\": \"sleep 30\"\n",
    "    } \n",
    "}\n",
    "print(job_api.create(job_dict))"
   ]
  },
  {
   "cell_type": "code",
   "execution_count": null,
   "metadata": {},
   "outputs": [],
   "source": [
    "for _ in range(10):\n",
    "    os.system(f'skym get job {job_uuid}')\n",
    "    time.sleep(0.5)"
   ]
  },
  {
   "cell_type": "markdown",
   "metadata": {},
   "source": [
    "### Demo 3: Spreading a job's/deployment's replicas across clusters."
   ]
  },
  {
   "cell_type": "code",
   "execution_count": null,
   "metadata": {},
   "outputs": [],
   "source": [
    "from sky_manager.api_client import JobAPI\n",
    "job_api = JobAPI(namespace='default')\n",
    "\n",
    "\n",
    "job_uuid = 'sky-' + str(uuid.uuid4().hex[:8]) # Get only the first 8 characters for a short version\n",
    "num_replicas = 4\n",
    "\n",
    "job_dict = {\n",
    "    \"kind\": \"Job\",\n",
    "    \"metadata\": {\n",
    "      \"name\": job_uuid,\n",
    "    },\n",
    "    \"spec\": {\n",
    "      \"replicas\": num_replicas,\n",
    "      \"image\": \"gcr.io/sky-burst/skyburst:latest\",\n",
    "      \"resources\": {\n",
    "        \"cpu\": 1,\n",
    "      },\n",
    "      \"run\": \"sleep 30\"\n",
    "    } \n",
    "}\n",
    "print(job_api.create(job_dict))"
   ]
  },
  {
   "cell_type": "code",
   "execution_count": null,
   "metadata": {},
   "outputs": [],
   "source": [
    "!kubectl get pods --context mluo-cloud"
   ]
  },
  {
   "cell_type": "code",
   "execution_count": null,
   "metadata": {},
   "outputs": [],
   "source": [
    "for _ in range(10):\n",
    "    os.system(f'skym get job {job_uuid}')\n",
    "    time.sleep(0.5)"
   ]
  },
  {
   "cell_type": "code",
   "execution_count": null,
   "metadata": {},
   "outputs": [],
   "source": [
    "!kubectl get pods --context mluo-cloud"
   ]
  },
  {
   "cell_type": "code",
   "execution_count": null,
   "metadata": {},
   "outputs": [],
   "source": [
    "!kubectl get pods --context mluo-onprem"
   ]
  },
  {
   "cell_type": "code",
   "execution_count": null,
   "metadata": {},
   "outputs": [],
   "source": [
    "!skym get clusters"
   ]
  },
  {
   "cell_type": "code",
   "execution_count": null,
   "metadata": {},
   "outputs": [],
   "source": []
  }
 ],
 "metadata": {
  "kernelspec": {
   "display_name": "sky",
   "language": "python",
   "name": "python3"
  },
  "language_info": {
   "codemirror_mode": {
    "name": "ipython",
    "version": 3
   },
   "file_extension": ".py",
   "mimetype": "text/x-python",
   "name": "python",
   "nbconvert_exporter": "python",
   "pygments_lexer": "ipython3",
   "version": "3.9.16"
  }
 },
 "nbformat": 4,
 "nbformat_minor": 2
}
